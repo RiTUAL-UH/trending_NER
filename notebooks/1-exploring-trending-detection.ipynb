{
 "cells": [
  {
   "cell_type": "code",
   "execution_count": null,
   "metadata": {},
   "outputs": [],
   "source": [
    "import os\n",
    "import sys\n",
    "\n",
    "PROJ_DIR = os.environ[\"WORKSPACE\"]\n",
    "PROJ_DIR = os.path.join(PROJ_DIR, \"trending_NER\")\n",
    "\n",
    "if PROJ_DIR not in sys.path: \n",
    "    sys.path.insert(0, PROJ_DIR) \n",
    "    \n",
    "PROJ_DIR"
   ]
  },
  {
   "cell_type": "code",
   "execution_count": null,
   "metadata": {},
   "outputs": [],
   "source": [
    "from IPython.core.display import display, HTML\n",
    "display(HTML(\"<style>.container { width:98% !important; }</style>\"))"
   ]
  },
  {
   "cell_type": "markdown",
   "metadata": {},
   "source": [
    "# 1. Load and prepare data"
   ]
  },
  {
   "cell_type": "code",
   "execution_count": null,
   "metadata": {},
   "outputs": [],
   "source": [
    "import os\n",
    "import json\n",
    "import jsonlines\n",
    "\n",
    "from tqdm.auto import tqdm\n",
    "from collections import Counter\n",
    "from sklearn.utils import shuffle\n",
    "\n",
    "import exp_ssl.src.commons.utilities as utils"
   ]
  },
  {
   "cell_type": "code",
   "execution_count": null,
   "metadata": {},
   "outputs": [],
   "source": [
    "data_path = {\n",
    "    '2014'  : 'data/2014/train.txt',\n",
    "    '2015'  : 'data/2015/train.txt',\n",
    "    '2016'  : 'data/2016/train.txt',\n",
    "    '2017'  : 'data/2017/train.txt',\n",
    "    '2018'  : 'data/2018/train.txt',\n",
    "}"
   ]
  },
  {
   "cell_type": "code",
   "execution_count": null,
   "metadata": {},
   "outputs": [],
   "source": [
    "datasets = {}\n",
    "colnames = {'tokens': 0, 'labels': 1}\n",
    "\n",
    "for split in data_path:\n",
    "    file_path = os.path.join(PROJ_DIR, data_path[split])\n",
    "    datasets[split] = utils.read_conll(file_path, colnames)"
   ]
  },
  {
   "cell_type": "markdown",
   "metadata": {},
   "source": [
    "# 2. Extract random data"
   ]
  },
  {
   "cell_type": "code",
   "execution_count": null,
   "metadata": {},
   "outputs": [],
   "source": [
    "num_samples = 200\n",
    "random_data = {}\n",
    "\n",
    "for split in datasets: \n",
    "    tokens, labels = shuffle(datasets[split]['tokens'], datasets[split]['labels'])\n",
    "    random_data[split] = {'tokens': tokens[:num_samples], 'labels': labels[:num_samples]}"
   ]
  },
  {
   "cell_type": "markdown",
   "metadata": {},
   "source": [
    "# 3. Extract trending-related data"
   ]
  },
  {
   "cell_type": "markdown",
   "metadata": {},
   "source": [
    "## 3.1 Define stopwords"
   ]
  },
  {
   "cell_type": "code",
   "execution_count": null,
   "metadata": {},
   "outputs": [],
   "source": [
    "stopwords = [',', '!', '?', '.', '#', '\\'', '..', '...', '@', ':', '-', '&', '\\\"', '<', '>', '+', '*', '\\\\', ';', \"/\", ')', '(', '%', '$', '%', '^',\n",
    "            '1', '2', '3', '4', '5', '6', '7', '8', '9', '0',\n",
    "            'one', 'two', 'three', 'four', 'five', 'six', 'seven', 'eight', 'nine', 'zero',\n",
    "            'i', 'me', 'my', 'myself', 'we', 'our', 'ours', 'ourselves', 'you', \"you're\", \"you've\", \"you'll\", \"you'd\", 'your', 'yours', \n",
    "            'yourself', 'yourselves', 'he', 'him', 'his', 'himself', 'she', \"she's\", 'her', 'hers', 'herself', 'it', \"it's\", 'its', 'itself', \n",
    "            'they', 'them', 'their', 'theirs', 'themselves', 'what', 'which', 'who', 'whom', 'this', 'that', \"that'll\", 'these', 'those', 'am', \n",
    "            'is', 'are', 'was', 'were', 'be', 'been', 'being', 'have', 'has', 'had', 'having', 'do', 'does', 'did', 'doing', 'a', 'an', 'the', \n",
    "            'and', 'but', 'if', 'or', 'because', 'as', 'until', 'while', 'of', 'at', 'by', 'for', 'with', 'about', 'against', 'between', 'into', \n",
    "            'through', 'during', 'before', 'after', 'above', 'below', 'to', 'from', 'up', 'down', 'in', 'out', 'on', 'off', 'over', 'under', \n",
    "            'again', 'further', 'then', 'once', 'here', 'there', 'when', 'where', 'why', 'how', 'all', 'any', 'both', 'each', 'few', 'more', \n",
    "            'most', 'other', 'some', 'such', 'no', 'nor', 'not', 'only', 'own', 'same', 'so', 'than', 'too', 'very', 's', 't', 'can', 'will', \n",
    "            'just', 'don', \"don't\", 'should', \"should've\", 'now', 'd', 'll', 'm', 'o', 're', 've', 'y', 'ain', 'aren', \"aren't\", 'couldn', \n",
    "            \"couldn't\", 'didn', \"didn't\", 'doesn', \"doesn't\", 'hadn', \"hadn't\", 'hasn', \"hasn't\", 'haven', \"haven't\", 'isn', \"isn't\", 'ma', \n",
    "            'mightn', \"mightn't\", 'mustn', \"mustn't\", 'needn', \"needn't\", 'shan', \"shan't\", 'shouldn', \"shouldn't\", 'wasn', \"wasn't\", 'weren', \n",
    "            \"weren't\", 'won', \"won't\", 'wouldn', \"wouldn't\", \"'s\", \"'m\", \"n't\", \"'ve\",\n",
    "            'next', 'today', 'years', 'ago', 'feel', 'go', 'gonna', 'gt', 'gon', 'na', 'got', 'went', 'last', 'look', 'looks', 'like', \n",
    "            'get', 'monday', 'tuesday', 'wednesday', 'thursday', 'friday', 'morning', 'noon', 'afternoon', 'evening', 'night', 'day', 'week', 'month',\n",
    "            'year', 'days', 'weeks', 'months', 'years', 'ago', 'hour', 'hours', 'minute', 'minutes', 'oh', 'well', 'really', 'come', 'u', 'ur', \n",
    "             'someone', 'every', 'may', 'cant', 'im', 'till', 'b', 'ha', 'yeah', 'time', 'til', \"you're\", 'even', 'times', 'sure', 'tonight', 'getting',\n",
    "            'rt', 'lol', 'dont', 'wanna', 'would', 'much', 'back', 'yo', 'talking', 'looking', 'never', 'lo', 'que', 'eu', 'de', 'hari', 'ini', 'ada', \n",
    "             'el', 'e', 'w', 'already', 'many', 'people', 'please', 'en', 'x', 'say', 'anyone', 'else', 'anything', 'mau', 'te', 'amo', 'aja', 'deh', \n",
    "             'ever', 'good', 'apa', 'ga', 'aku', 'hell', 'yea', 'yeah', 'birthday', 'new', 'via', 'great', 'thank', 'thanks', 'say', 'says', 'see', 'going',\n",
    "            'know', 'make', 'work', 'right', 'could', 'way', 'ways', 'help', 'using', 'use', 'first', 'always', 'show', 'think', 'tomorrow', 'better',\n",
    "            'best', 'know', 'need', 'still', 'us', 'let', 'love', 'man', 'happy', 'read', 'try', 'take', 'said', 'support', 'live', 'news', 'hi', 'made',\n",
    "            'want', 'wanna']\n",
    "\n",
    "\n",
    "def filter_word(word):\n",
    "    if  word.encode( 'UTF-8' ).isalpha() and word.lower() not in stopwords:\n",
    "        return True\n",
    "    else:\n",
    "        return False"
   ]
  },
  {
   "cell_type": "markdown",
   "metadata": {},
   "source": [
    "## 3.2 Compute n-grams"
   ]
  },
  {
   "cell_type": "code",
   "execution_count": null,
   "metadata": {},
   "outputs": [],
   "source": [
    "for split in datasets:\n",
    "    sentences = datasets[split]['tokens']\n",
    "    ngram = []\n",
    "    for tokens in sentences:\n",
    "        for i in range(len(tokens) - 1):\n",
    "            if filter_word(tokens[i]) and filter_word(tokens[i+1]):\n",
    "                ngram.append(\" \".join(tokens[i: i+2]))\n",
    "    ngram_counter = Counter(ngram)\n",
    "    sorted_ngram = [(k, v) for k, v in sorted(ngram_counter.items(), key=lambda item: item[1], reverse=True)]\n",
    "    datasets[split]['ngram'] = sorted_ngram"
   ]
  },
  {
   "cell_type": "markdown",
   "metadata": {},
   "source": [
    "## 3.3 Compute trending n-grams"
   ]
  },
  {
   "cell_type": "code",
   "execution_count": null,
   "metadata": {},
   "outputs": [],
   "source": [
    "def compute_trending_ngram(old_split, new_split):\n",
    "    datasets[new_split]['trending_ngram'] = {}\n",
    "\n",
    "    for k, v in datasets[new_split]['ngram']:\n",
    "        new_split_num = v\n",
    "        if k in datasets[old_split]['ngram']:\n",
    "            old_split_num = datasets[old_split]['ngram'][k]\n",
    "        else:\n",
    "            old_split_num = 0\n",
    "\n",
    "        trending_score = (new_split_num - old_split_num) / (old_split_num + 5)\n",
    "        if trending_score > 0.1:\n",
    "            datasets[new_split]['trending_ngram'][k] = trending_score\n",
    "\n",
    "    return datasets"
   ]
  },
  {
   "cell_type": "code",
   "execution_count": null,
   "metadata": {},
   "outputs": [],
   "source": [
    "def extract_trending_data(split, max_samples=200):\n",
    "    trending_data = {'tokens': [], 'labels': [], 'scores': []}\n",
    "    \n",
    "    for i, tokens in enumerate(random_data[split]['tokens']):\n",
    "        \n",
    "        trends = len(tokens) * [0]\n",
    "        scores = len(tokens) * [0]\n",
    "        year = len(tokens) * [split]\n",
    "        \n",
    "        for j in range(len(tokens) - 1):\n",
    "            ngram = \" \".join(tokens[j: j+2])\n",
    "            if ngram in datasets[split]['trending_ngram']:\n",
    "                trends[j] = 1\n",
    "                trends[j+1] = 1\n",
    "                \n",
    "                scores[j] += datasets[split]['trending_ngram'][ngram]\n",
    "                scores[j+1] += datasets[split]['trending_ngram'][ngram]\n",
    "                \n",
    "        \n",
    "        sent_score = sum(scores)\n",
    "        \n",
    "        if sent_score > 0:\n",
    "            trending_data['tokens'].append(random_data[split]['tokens'][i])\n",
    "            trending_data['labels'].append(random_data[split]['labels'][i])\n",
    "            trending_data['scores'].append(scores)\n",
    "                \n",
    "    zipped_data = zip(trending_data['tokens'], trending_data['labels'], trending_data['scores'])\n",
    "    sorted_data = sorted(zipped_data, key=lambda item: sum(item[2]), reverse=True)[:max_samples]\n",
    "    data_list = list(map(list, zip(*sorted_data)))\n",
    "    results = {'tokens': data_list[0], 'labels': data_list[1], 'scores': data_list[2]}\n",
    "    \n",
    "    assert all([len(results['tokens'][i]) == len(results['labels'][i]) for i in range(len(results['tokens']))])\n",
    "    \n",
    "    return results"
   ]
  },
  {
   "cell_type": "markdown",
   "metadata": {},
   "source": [
    "## 3.4 Extract trending-related samples"
   ]
  },
  {
   "cell_type": "markdown",
   "metadata": {},
   "source": [
    "### 3.4.1 2014"
   ]
  },
  {
   "cell_type": "code",
   "execution_count": null,
   "metadata": {},
   "outputs": [],
   "source": [
    "datasets['2014']['trending_ngram'] = {}\n",
    "\n",
    "for k, v in datasets['2014']['ngram']:\n",
    "    trending_score = v / 5\n",
    "    if trending_score > 0.1:\n",
    "        datasets['2014']['trending_ngram'][k] = trending_score\n",
    "\n",
    "print(len(datasets['2014']['trending_ngram']))\n",
    "print(list(datasets['2014']['trending_ngram'])[:10])"
   ]
  },
  {
   "cell_type": "code",
   "execution_count": null,
   "metadata": {},
   "outputs": [],
   "source": [
    "trend_2014 = extract_trending_data('2014')\n",
    "len(trend_2014['tokens'])"
   ]
  },
  {
   "cell_type": "code",
   "execution_count": null,
   "metadata": {},
   "outputs": [],
   "source": [
    "write_path = 'data/2019/random/STT/2014/train.txt'\n",
    "write_data = {'tokens': trend_2014['tokens'], 'labels': trend_2014['labels'],}\n",
    "utils.write_conll(os.path.join(PROJ_DIR, write_path), write_data)"
   ]
  },
  {
   "cell_type": "markdown",
   "metadata": {},
   "source": [
    "### 3.4.2 2015"
   ]
  },
  {
   "cell_type": "code",
   "execution_count": null,
   "metadata": {},
   "outputs": [],
   "source": [
    "datasets = compute_trending_ngram('2014', '2015')\n",
    "print(len(datasets['2015']['trending_ngram']))\n",
    "print(list(datasets['2015']['trending_ngram'])[:10])"
   ]
  },
  {
   "cell_type": "code",
   "execution_count": null,
   "metadata": {},
   "outputs": [],
   "source": [
    "trend_2015 = extract_trending_data('2015')\n",
    "len(trend_2015['tokens'])"
   ]
  },
  {
   "cell_type": "code",
   "execution_count": null,
   "metadata": {},
   "outputs": [],
   "source": [
    "write_path = 'data/2019/random/STT/2015/train.txt'\n",
    "write_data = {'tokens': trend_2015['tokens'], 'labels': trend_2015['labels']}\n",
    "utils.write_conll(os.path.join(PROJ_DIR, write_path), write_data)"
   ]
  },
  {
   "cell_type": "markdown",
   "metadata": {},
   "source": [
    "### 3.4.3 2016"
   ]
  },
  {
   "cell_type": "code",
   "execution_count": null,
   "metadata": {},
   "outputs": [],
   "source": [
    "datasets = compute_trending_ngram('2015', '2016')\n",
    "print(len(datasets['2016']['trending_ngram']))\n",
    "print(list(datasets['2016']['trending_ngram'])[:10])"
   ]
  },
  {
   "cell_type": "code",
   "execution_count": null,
   "metadata": {},
   "outputs": [],
   "source": [
    "trend_2016 = extract_trending_data('2016')\n",
    "len(trend_2016['tokens'])"
   ]
  },
  {
   "cell_type": "code",
   "execution_count": null,
   "metadata": {},
   "outputs": [],
   "source": [
    "write_path = 'data/2019/random/STT/2016/train.txt'\n",
    "write_data = {'tokens': trend_2016['tokens'], 'labels': trend_2016['labels'],}\n",
    "utils.write_conll(os.path.join(PROJ_DIR, write_path), write_data)"
   ]
  },
  {
   "cell_type": "markdown",
   "metadata": {},
   "source": [
    "### 3.4.4 2017"
   ]
  },
  {
   "cell_type": "code",
   "execution_count": null,
   "metadata": {},
   "outputs": [],
   "source": [
    "datasets = compute_trending_ngram('2016', '2017')\n",
    "print(len(datasets['2017']['trending_ngram']))\n",
    "print(list(datasets['2017']['trending_ngram'])[:10])"
   ]
  },
  {
   "cell_type": "code",
   "execution_count": null,
   "metadata": {},
   "outputs": [],
   "source": [
    "trend_2017 = extract_trending_data('2017')\n",
    "len(trend_2017['tokens'])"
   ]
  },
  {
   "cell_type": "code",
   "execution_count": null,
   "metadata": {},
   "outputs": [],
   "source": [
    "write_path = 'data/2019/random/STT/2017/train.txt'\n",
    "write_data = {'tokens': trend_2017['tokens'], 'labels': trend_2017['labels']}\n",
    "utils.write_conll(os.path.join(PROJ_DIR, write_path), write_data)"
   ]
  },
  {
   "cell_type": "markdown",
   "metadata": {},
   "source": [
    "### 3.4.5 2018"
   ]
  },
  {
   "cell_type": "code",
   "execution_count": null,
   "metadata": {},
   "outputs": [],
   "source": [
    "datasets = compute_trending_ngram('2017', '2018')\n",
    "print(len(datasets['2018']['trending_ngram']))\n",
    "print(list(datasets['2018']['trending_ngram'])[:10])"
   ]
  },
  {
   "cell_type": "code",
   "execution_count": null,
   "metadata": {},
   "outputs": [],
   "source": [
    "trend_2018 = extract_trending_data('2018')\n",
    "len(trend_2018['tokens'])"
   ]
  },
  {
   "cell_type": "code",
   "execution_count": null,
   "metadata": {},
   "outputs": [],
   "source": [
    "write_path = 'data/2019/random/STT/2018/train.txt'\n",
    "write_data = {'tokens': trend_2018['tokens'], 'labels': trend_2018['labels']}\n",
    "utils.write_conll(os.path.join(PROJ_DIR, write_path), write_data)"
   ]
  },
  {
   "cell_type": "markdown",
   "metadata": {},
   "source": [
    "## 3.5 Process all trending data"
   ]
  },
  {
   "cell_type": "code",
   "execution_count": null,
   "metadata": {},
   "outputs": [],
   "source": [
    "trending_data = {'tokens': [], 'labels': []}\n",
    "trending_data['tokens'] = trend_2014['tokens'] + trend_2015['tokens'] + trend_2016['tokens'] + trend_2017['tokens'] + trend_2018['tokens']\n",
    "trending_data['labels'] = trend_2014['labels'] + trend_2015['labels'] + trend_2016['labels'] + trend_2017['labels'] + trend_2018['labels']\n",
    "\n",
    "print(len(trending_data['tokens']))\n",
    "print(len(trending_data['labels']))"
   ]
  },
  {
   "cell_type": "code",
   "execution_count": null,
   "metadata": {},
   "outputs": [],
   "source": [
    "write_path = 'data/2019/random/TF/train.txt'\n",
    "trending_data['tokens'], trending_data['labels'] = shuffle(trending_data['tokens'], trending_data['labels'])\n",
    "write_data = {'tokens': trending_data['tokens'], 'labels': trending_data['labels']}\n",
    "utils.write_conll(os.path.join(PROJ_DIR, write_path), write_data)"
   ]
  },
  {
   "cell_type": "code",
   "execution_count": null,
   "metadata": {},
   "outputs": [],
   "source": []
  }
 ],
 "metadata": {
  "kernelspec": {
   "display_name": "Python 3",
   "language": "python",
   "name": "python3"
  },
  "language_info": {
   "codemirror_mode": {
    "name": "ipython",
    "version": 3
   },
   "file_extension": ".py",
   "mimetype": "text/x-python",
   "name": "python",
   "nbconvert_exporter": "python",
   "pygments_lexer": "ipython3",
   "version": "3.8.0"
  }
 },
 "nbformat": 4,
 "nbformat_minor": 2
}